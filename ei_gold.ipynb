{
 "cells": [
  {
   "cell_type": "code",
   "execution_count": 13,
   "metadata": {
    "slideshow": {
     "slide_type": "slide"
    }
   },
   "outputs": [],
   "source": [
    "import pandas as pd\n",
    "import numpy as np\n",
    "%matplotlib inline\n",
    "import warnings\n",
    "warnings.filterwarnings('ignore')"
   ]
  },
  {
   "cell_type": "code",
   "execution_count": 14,
   "metadata": {
    "slideshow": {
     "slide_type": "slide"
    }
   },
   "outputs": [],
   "source": [
    "from sklearn.linear_model import LinearRegression\n",
    "from sklearn.metrics import mean_squared_error, r2_score"
   ]
  },
  {
   "cell_type": "code",
   "execution_count": 15,
   "metadata": {
    "slideshow": {
     "slide_type": "slide"
    }
   },
   "outputs": [
    {
     "data": {
      "text/html": [
       "<div>\n",
       "<style scoped>\n",
       "    .dataframe tbody tr th:only-of-type {\n",
       "        vertical-align: middle;\n",
       "    }\n",
       "\n",
       "    .dataframe tbody tr th {\n",
       "        vertical-align: top;\n",
       "    }\n",
       "\n",
       "    .dataframe thead th {\n",
       "        text-align: right;\n",
       "    }\n",
       "</style>\n",
       "<table border=\"1\" class=\"dataframe\">\n",
       "  <thead>\n",
       "    <tr style=\"text-align: right;\">\n",
       "      <th></th>\n",
       "      <th>Open</th>\n",
       "      <th>High</th>\n",
       "      <th>Low</th>\n",
       "      <th>Close</th>\n",
       "      <th>Adj Close</th>\n",
       "      <th>Volume</th>\n",
       "    </tr>\n",
       "    <tr>\n",
       "      <th>Date</th>\n",
       "      <th></th>\n",
       "      <th></th>\n",
       "      <th></th>\n",
       "      <th></th>\n",
       "      <th></th>\n",
       "      <th></th>\n",
       "    </tr>\n",
       "  </thead>\n",
       "  <tbody>\n",
       "    <tr>\n",
       "      <th>2016-04-12</th>\n",
       "      <td>27.334999</td>\n",
       "      <td>27.625000</td>\n",
       "      <td>27.165001</td>\n",
       "      <td>27.610001</td>\n",
       "      <td>25.680305</td>\n",
       "      <td>108929200</td>\n",
       "    </tr>\n",
       "    <tr>\n",
       "      <th>2016-04-13</th>\n",
       "      <td>27.700001</td>\n",
       "      <td>28.084999</td>\n",
       "      <td>27.700001</td>\n",
       "      <td>28.010000</td>\n",
       "      <td>26.052345</td>\n",
       "      <td>133029200</td>\n",
       "    </tr>\n",
       "    <tr>\n",
       "      <th>2016-04-14</th>\n",
       "      <td>27.905001</td>\n",
       "      <td>28.097500</td>\n",
       "      <td>27.832500</td>\n",
       "      <td>28.025000</td>\n",
       "      <td>26.066298</td>\n",
       "      <td>101895600</td>\n",
       "    </tr>\n",
       "    <tr>\n",
       "      <th>2016-04-15</th>\n",
       "      <td>28.027500</td>\n",
       "      <td>28.075001</td>\n",
       "      <td>27.432501</td>\n",
       "      <td>27.462500</td>\n",
       "      <td>25.543112</td>\n",
       "      <td>187756000</td>\n",
       "    </tr>\n",
       "    <tr>\n",
       "      <th>2016-04-18</th>\n",
       "      <td>27.222500</td>\n",
       "      <td>27.237499</td>\n",
       "      <td>26.735001</td>\n",
       "      <td>26.870001</td>\n",
       "      <td>24.992023</td>\n",
       "      <td>243286000</td>\n",
       "    </tr>\n",
       "  </tbody>\n",
       "</table>\n",
       "</div>"
      ],
      "text/plain": [
       "                 Open       High        Low      Close  Adj Close     Volume\n",
       "Date                                                                        \n",
       "2016-04-12  27.334999  27.625000  27.165001  27.610001  25.680305  108929200\n",
       "2016-04-13  27.700001  28.084999  27.700001  28.010000  26.052345  133029200\n",
       "2016-04-14  27.905001  28.097500  27.832500  28.025000  26.066298  101895600\n",
       "2016-04-15  28.027500  28.075001  27.432501  27.462500  25.543112  187756000\n",
       "2016-04-18  27.222500  27.237499  26.735001  26.870001  24.992023  243286000"
      ]
     },
     "execution_count": 15,
     "metadata": {},
     "output_type": "execute_result"
    }
   ],
   "source": [
    "from pathlib import Path\n",
    "csvpath = Path('AAPL.csv')\n",
    "df = pd.read_csv(csvpath, parse_dates=True, index_col='Date')\n",
    "df.head()"
   ]
  },
  {
   "cell_type": "code",
   "execution_count": 16,
   "metadata": {
    "slideshow": {
     "slide_type": "slide"
    }
   },
   "outputs": [
    {
     "data": {
      "text/html": [
       "<div>\n",
       "<style scoped>\n",
       "    .dataframe tbody tr th:only-of-type {\n",
       "        vertical-align: middle;\n",
       "    }\n",
       "\n",
       "    .dataframe tbody tr th {\n",
       "        vertical-align: top;\n",
       "    }\n",
       "\n",
       "    .dataframe thead th {\n",
       "        text-align: right;\n",
       "    }\n",
       "</style>\n",
       "<table border=\"1\" class=\"dataframe\">\n",
       "  <thead>\n",
       "    <tr style=\"text-align: right;\">\n",
       "      <th></th>\n",
       "      <th>Open</th>\n",
       "      <th>High</th>\n",
       "      <th>Low</th>\n",
       "      <th>Close</th>\n",
       "      <th>Adj Close</th>\n",
       "      <th>Volume</th>\n",
       "      <th>Return</th>\n",
       "      <th>Lagged_Return</th>\n",
       "    </tr>\n",
       "    <tr>\n",
       "      <th>Date</th>\n",
       "      <th></th>\n",
       "      <th></th>\n",
       "      <th></th>\n",
       "      <th></th>\n",
       "      <th></th>\n",
       "      <th></th>\n",
       "      <th></th>\n",
       "      <th></th>\n",
       "    </tr>\n",
       "  </thead>\n",
       "  <tbody>\n",
       "    <tr>\n",
       "      <th>2016-04-14</th>\n",
       "      <td>27.905001</td>\n",
       "      <td>28.097500</td>\n",
       "      <td>27.832500</td>\n",
       "      <td>28.025000</td>\n",
       "      <td>26.066298</td>\n",
       "      <td>101895600</td>\n",
       "      <td>0.053552</td>\n",
       "      <td>1.448747</td>\n",
       "    </tr>\n",
       "    <tr>\n",
       "      <th>2016-04-15</th>\n",
       "      <td>28.027500</td>\n",
       "      <td>28.075001</td>\n",
       "      <td>27.432501</td>\n",
       "      <td>27.462500</td>\n",
       "      <td>25.543112</td>\n",
       "      <td>187756000</td>\n",
       "      <td>-2.007136</td>\n",
       "      <td>0.053552</td>\n",
       "    </tr>\n",
       "    <tr>\n",
       "      <th>2016-04-18</th>\n",
       "      <td>27.222500</td>\n",
       "      <td>27.237499</td>\n",
       "      <td>26.735001</td>\n",
       "      <td>26.870001</td>\n",
       "      <td>24.992023</td>\n",
       "      <td>243286000</td>\n",
       "      <td>-2.157484</td>\n",
       "      <td>-2.007136</td>\n",
       "    </tr>\n",
       "    <tr>\n",
       "      <th>2016-04-19</th>\n",
       "      <td>26.969999</td>\n",
       "      <td>27.000000</td>\n",
       "      <td>26.557501</td>\n",
       "      <td>26.727501</td>\n",
       "      <td>24.859484</td>\n",
       "      <td>129539600</td>\n",
       "      <td>-0.530331</td>\n",
       "      <td>-2.157484</td>\n",
       "    </tr>\n",
       "    <tr>\n",
       "      <th>2016-04-20</th>\n",
       "      <td>26.660000</td>\n",
       "      <td>27.022499</td>\n",
       "      <td>26.514999</td>\n",
       "      <td>26.782499</td>\n",
       "      <td>24.910643</td>\n",
       "      <td>122444000</td>\n",
       "      <td>0.205773</td>\n",
       "      <td>-0.530331</td>\n",
       "    </tr>\n",
       "  </tbody>\n",
       "</table>\n",
       "</div>"
      ],
      "text/plain": [
       "                 Open       High        Low      Close  Adj Close     Volume  \\\n",
       "Date                                                                           \n",
       "2016-04-14  27.905001  28.097500  27.832500  28.025000  26.066298  101895600   \n",
       "2016-04-15  28.027500  28.075001  27.432501  27.462500  25.543112  187756000   \n",
       "2016-04-18  27.222500  27.237499  26.735001  26.870001  24.992023  243286000   \n",
       "2016-04-19  26.969999  27.000000  26.557501  26.727501  24.859484  129539600   \n",
       "2016-04-20  26.660000  27.022499  26.514999  26.782499  24.910643  122444000   \n",
       "\n",
       "              Return  Lagged_Return  \n",
       "Date                                 \n",
       "2016-04-14  0.053552       1.448747  \n",
       "2016-04-15 -2.007136       0.053552  \n",
       "2016-04-18 -2.157484      -2.007136  \n",
       "2016-04-19 -0.530331      -2.157484  \n",
       "2016-04-20  0.205773      -0.530331  "
      ]
     },
     "execution_count": 16,
     "metadata": {},
     "output_type": "execute_result"
    }
   ],
   "source": [
    "df['Return'] = df['Close'].pct_change() * 100\n",
    "df['Lagged_Return'] = df.Return.shift()\n",
    "df = df.dropna()\n",
    "df.head()"
   ]
  },
  {
   "cell_type": "code",
   "execution_count": 17,
   "metadata": {
    "slideshow": {
     "slide_type": "slide"
    }
   },
   "outputs": [
    {
     "data": {
      "text/plain": [
       "<AxesSubplot:xlabel='Date'>"
      ]
     },
     "execution_count": 17,
     "metadata": {},
     "output_type": "execute_result"
    },
    {
     "data": {
      "image/png": "[encoded data removed]",
      "text/plain": [
       "<Figure size 432x288 with 1 Axes>"
      ]
     },
     "metadata": {
      "needs_background": "light"
     },
     "output_type": "display_data"
    }
   ],
   "source": [
    "df['Close'].plot()"
   ]
  },
  {
   "cell_type": "markdown",
   "metadata": {
    "slideshow": {
     "slide_type": "slide"
    }
   },
   "source": [
    "# Train Test Split Predictions\n",
    "\n",
    "Training Period: 2001-2018\n",
    "Testing Period: 2019"
   ]
  },
  {
   "cell_type": "code",
   "execution_count": 33,
   "metadata": {
    "slideshow": {
     "slide_type": "slide"
    }
   },
   "outputs": [],
   "source": [
    "# Create a train/test split for the data using 2001-2018 for training and 2019 for testing\n",
    "train = df['2016':'2018']\n",
    "test = df['2019']"
   ]
  },
  {
   "cell_type": "code",
   "execution_count": 34,
   "metadata": {
    "slideshow": {
     "slide_type": "slide"
    }
   },
   "outputs": [],
   "source": [
    "# Create train and test sets for dependent and independent variables\n",
    "X_train = train[\"Lagged_Return\"].to_frame()\n",
    "y_train = train[\"Return\"]\n",
    "X_test = test[\"Lagged_Return\"].to_frame()\n",
    "y_test = test[\"Return\"]"
   ]
  },
  {
   "cell_type": "code",
   "execution_count": 35,
   "metadata": {
    "slideshow": {
     "slide_type": "slide"
    }
   },
   "outputs": [],
   "source": [
    "# Create and fit model to the data, make predictions\n",
    "model = LinearRegression()\n",
    "model.fit(X_train, y_train)\n",
    "predictions = model.predict(X_test)"
   ]
  },
  {
   "cell_type": "code",
   "execution_count": 36,
   "metadata": {
    "slideshow": {
     "slide_type": "slide"
    }
   },
   "outputs": [],
   "source": [
    "# Construct a dataframe using just the \"y\" training data:\n",
    "out_of_sample_results = y_test.to_frame()\n",
    "\n",
    "# Add a column of \"out-of-sample\" predictions to that dataframe:  \n",
    "out_of_sample_results[\"Out-of-Sample Predictions\"] = model.predict(X_test)"
   ]
  },
  {
   "cell_type": "code",
   "execution_count": 38,
   "metadata": {
    "slideshow": {
     "slide_type": "slide"
    }
   },
   "outputs": [],
   "source": [
    "# Plot the out-of-sample results for 2019\n",
    "# out_of_sample_results.plot(subplots=True)"
   ]
  },
  {
   "cell_type": "code",
   "execution_count": 39,
   "metadata": {
    "slideshow": {
     "slide_type": "slide"
    }
   },
   "outputs": [
    {
     "name": "stdout",
     "output_type": "stream",
     "text": [
      "Out-of-sample Root Mean Squared Error (RMSE): 1.672295224745903\n"
     ]
    }
   ],
   "source": [
    "# Calculate out-of-sample mean_squared_error (for comparison to out-of-sample)\n",
    "out_of_sample_mse = mean_squared_error(\n",
    "    out_of_sample_results[\"Return\"],\n",
    "    out_of_sample_results[\"Out-of-Sample Predictions\"]\n",
    ")\n",
    "\n",
    "# Calculate out-of-sample root mean_squared_error (for comparison to out-of-sample)\n",
    "out_of_sample_rmse = np.sqrt(out_of_sample_mse)\n",
    "print(f\"Out-of-sample Root Mean Squared Error (RMSE): {out_of_sample_rmse}\")"
   ]
  },
  {
   "cell_type": "markdown",
   "metadata": {
    "slideshow": {
     "slide_type": "slide"
    }
   },
   "source": [
    "# Rolling Out-of-Sample Predictions"
   ]
  },
  {
   "cell_type": "code",
   "execution_count": 24,
   "metadata": {
    "slideshow": {
     "slide_type": "slide"
    }
   },
   "outputs": [
    {
     "name": "stdout",
     "output_type": "stream",
     "text": [
      "2016-04-11/2016-04-17\n"
     ]
    }
   ],
   "source": [
    "# Split the index into weekly periods\n",
    "weeks = df.index.to_period(\"w\").unique()\n",
    "print(weeks[0])"
   ]
  },
  {
   "cell_type": "code",
   "execution_count": 25,
   "metadata": {
    "slideshow": {
     "slide_type": "slide"
    }
   },
   "outputs": [
    {
     "name": "stdout",
     "output_type": "stream",
     "text": [
      "248\n"
     ]
    }
   ],
   "source": [
    "# Declare the training window of 12 weeks\n",
    "# Define the imeframe of rolling windows\n",
    "training_window = 12\n",
    "timeframe = len(weeks) - training_window - 1\n",
    "print(timeframe)"
   ]
  },
  {
   "cell_type": "code",
   "execution_count": 26,
   "metadata": {
    "slideshow": {
     "slide_type": "slide"
    }
   },
   "outputs": [],
   "source": [
    "# Construct empty placeholder dataframes.\n",
    "# (During each iteration of the loop, we'll append that week\"s predictions to this DataFrame)\n",
    "all_predictions = pd.DataFrame(columns=[\"Out-of-Sample Predictions\"])\n",
    "all_actuals = pd.DataFrame(columns=[\"Actual Returns\"])"
   ]
  },
  {
   "cell_type": "code",
   "execution_count": 27,
   "metadata": {
    "slideshow": {
     "slide_type": "slide"
    }
   },
   "outputs": [],
   "source": [
    "# During rolling iteration, split into train and test sets.\n",
    "# Use linear regression to make out-of-sample predictions.\n",
    "# Append the results to external dataframes.\n",
    "for i in range(0, timeframe):\n",
    "    \n",
    "    # Beginning of training window\n",
    "    start_of_training_period = weeks[i].start_time.strftime(format=\"%Y-%m-%d\")\n",
    "    \n",
    "    # End of training window\n",
    "    end_of_training_period = weeks[training_window+i].end_time.strftime(format=\"%Y-%m-%d\")\n",
    "\n",
    "    # Window of test-window data\n",
    "    test_week = weeks[training_window + i + 1]\n",
    "    \n",
    "    # String of testing window\n",
    "    start_of_test_week  = test_week.start_time.strftime(format=\"%Y-%m-%d\")\n",
    "    end_of_test_week = test_week.end_time.strftime(format=\"%Y-%m-%d\")\n",
    "    \n",
    "    train = df.loc[start_of_training_period:end_of_training_period]\n",
    "    test = df.loc[start_of_test_week:end_of_test_week]\n",
    "    \n",
    "    # Create new dataframes:\n",
    "    X_train = train[\"Lagged_Return\"].to_frame()\n",
    "    y_train = train[\"Return\"]\n",
    "    X_test = test[\"Lagged_Return\"].to_frame()\n",
    "    y_test = test[\"Return\"]\n",
    "\n",
    "    model = LinearRegression()\n",
    "    model.fit(X_train, y_train)\n",
    "    predictions = model.predict(X_test)\n",
    "    \n",
    "    # Create a temporary dataframe to hold predictions\n",
    "    predictions = pd.DataFrame(predictions, index=X_test.index, columns=[\"Out-of-Sample Predictions\"])\n",
    "    \n",
    "    # Create a temporary DataFrame of the actual \"y\"s in the test dataframe, with column name=\"Actual Returns\": \n",
    "    actuals = pd.DataFrame(y_test, index=y_test.index)\n",
    "    actuals.columns = [\"Actual Returns\"]  \n",
    "    \n",
    "    # Append these two dataframes (predictions and actuals) to the two master DataFrames built outside the loop\n",
    "    all_predictions = all_predictions.append(predictions)\n",
    "    all_actuals = all_actuals.append(actuals)   \n",
    "    "
   ]
  },
  {
   "cell_type": "code",
   "execution_count": 28,
   "metadata": {
    "slideshow": {
     "slide_type": "slide"
    }
   },
   "outputs": [
    {
     "data": {
      "text/html": [
       "<div>\n",
       "<style scoped>\n",
       "    .dataframe tbody tr th:only-of-type {\n",
       "        vertical-align: middle;\n",
       "    }\n",
       "\n",
       "    .dataframe tbody tr th {\n",
       "        vertical-align: top;\n",
       "    }\n",
       "\n",
       "    .dataframe thead th {\n",
       "        text-align: right;\n",
       "    }\n",
       "</style>\n",
       "<table border=\"1\" class=\"dataframe\">\n",
       "  <thead>\n",
       "    <tr style=\"text-align: right;\">\n",
       "      <th></th>\n",
       "      <th>Actual Returns</th>\n",
       "      <th>Out-of-Sample Predictions</th>\n",
       "    </tr>\n",
       "  </thead>\n",
       "  <tbody>\n",
       "    <tr>\n",
       "      <th>2016-07-11</th>\n",
       "      <td>0.310306</td>\n",
       "      <td>0.077831</td>\n",
       "    </tr>\n",
       "    <tr>\n",
       "      <th>2016-07-12</th>\n",
       "      <td>0.453698</td>\n",
       "      <td>-0.067076</td>\n",
       "    </tr>\n",
       "    <tr>\n",
       "      <th>2016-07-13</th>\n",
       "      <td>-0.564562</td>\n",
       "      <td>-0.022004</td>\n",
       "    </tr>\n",
       "    <tr>\n",
       "      <th>2016-07-14</th>\n",
       "      <td>1.982034</td>\n",
       "      <td>-0.342073</td>\n",
       "    </tr>\n",
       "    <tr>\n",
       "      <th>2016-07-15</th>\n",
       "      <td>-0.010122</td>\n",
       "      <td>0.458397</td>\n",
       "    </tr>\n",
       "  </tbody>\n",
       "</table>\n",
       "</div>"
      ],
      "text/plain": [
       "            Actual Returns  Out-of-Sample Predictions\n",
       "2016-07-11        0.310306                   0.077831\n",
       "2016-07-12        0.453698                  -0.067076\n",
       "2016-07-13       -0.564562                  -0.022004\n",
       "2016-07-14        1.982034                  -0.342073\n",
       "2016-07-15       -0.010122                   0.458397"
      ]
     },
     "execution_count": 28,
     "metadata": {},
     "output_type": "execute_result"
    }
   ],
   "source": [
    "Results = pd.concat([all_actuals, all_predictions], axis=1)\n",
    "Results.head()"
   ]
  },
  {
   "cell_type": "code",
   "execution_count": 44,
   "metadata": {
    "slideshow": {
     "slide_type": "slide"
    }
   },
   "outputs": [
    {
     "data": {
      "text/html": [
       "<div>\n",
       "<style scoped>\n",
       "    .dataframe tbody tr th:only-of-type {\n",
       "        vertical-align: middle;\n",
       "    }\n",
       "\n",
       "    .dataframe tbody tr th {\n",
       "        vertical-align: top;\n",
       "    }\n",
       "\n",
       "    .dataframe thead th {\n",
       "        text-align: right;\n",
       "    }\n",
       "</style>\n",
       "<table border=\"1\" class=\"dataframe\">\n",
       "  <thead>\n",
       "    <tr style=\"text-align: right;\">\n",
       "      <th></th>\n",
       "      <th>Actual Returns</th>\n",
       "      <th>Out-of-Sample Predictions</th>\n",
       "    </tr>\n",
       "  </thead>\n",
       "  <tbody>\n",
       "    <tr>\n",
       "      <th>2019-01-02</th>\n",
       "      <td>0.114109</td>\n",
       "      <td>-0.657414</td>\n",
       "    </tr>\n",
       "    <tr>\n",
       "      <th>2019-01-03</th>\n",
       "      <td>-9.960737</td>\n",
       "      <td>-0.602742</td>\n",
       "    </tr>\n",
       "    <tr>\n",
       "      <th>2019-01-04</th>\n",
       "      <td>4.268930</td>\n",
       "      <td>0.043423</td>\n",
       "    </tr>\n",
       "    <tr>\n",
       "      <th>2019-01-07</th>\n",
       "      <td>-0.222585</td>\n",
       "      <td>-1.479679</td>\n",
       "    </tr>\n",
       "    <tr>\n",
       "      <th>2019-01-08</th>\n",
       "      <td>1.906313</td>\n",
       "      <td>-0.720698</td>\n",
       "    </tr>\n",
       "  </tbody>\n",
       "</table>\n",
       "</div>"
      ],
      "text/plain": [
       "            Actual Returns  Out-of-Sample Predictions\n",
       "2019-01-02        0.114109                  -0.657414\n",
       "2019-01-03       -9.960737                  -0.602742\n",
       "2019-01-04        4.268930                   0.043423\n",
       "2019-01-07       -0.222585                  -1.479679\n",
       "2019-01-08        1.906313                  -0.720698"
      ]
     },
     "execution_count": 44,
     "metadata": {},
     "output_type": "execute_result"
    }
   ],
   "source": [
    "# 2019 Data\n",
    "results_2019 = Results.loc['2019':]\n",
    "results_2019.head()"
   ]
  },
  {
   "cell_type": "code",
   "execution_count": 43,
   "metadata": {
    "slideshow": {
     "slide_type": "slide"
    }
   },
   "outputs": [],
   "source": [
    "# Plot the results\n",
    "# results_2019.plot(subplots=True)"
   ]
  },
  {
   "cell_type": "code",
   "execution_count": 41,
   "metadata": {
    "slideshow": {
     "slide_type": "slide"
    }
   },
   "outputs": [
    {
     "name": "stdout",
     "output_type": "stream",
     "text": [
      "Rolling Out-of-Sample Root Mean Squared Error (RMSE): 2.3367560823354103\n"
     ]
    }
   ],
   "source": [
    "# Out-of-sample metrics\n",
    "# Calculate the mean_squared_error (MSE) on actual versus predicted test \"y\" \n",
    "# (Hint: use the dataframe above)\n",
    "mse = mean_squared_error(\n",
    "    results_2019[\"Actual Returns\"],\n",
    "    results_2019[\"Out-of-Sample Predictions\"]\n",
    ")\n",
    "\n",
    "# Using that mean-squared-error, calculate the root-mean-squared error (RMSE):\n",
    "rolling_rmse = np.sqrt(mse)\n",
    "print(f\"Rolling Out-of-Sample Root Mean Squared Error (RMSE): {rolling_rmse}\")"
   ]
  },
  {
   "cell_type": "markdown",
   "metadata": {
    "slideshow": {
     "slide_type": "slide"
    }
   },
   "source": [
    "# Final Model Comparison"
   ]
  },
  {
   "cell_type": "code",
   "execution_count": 42,
   "metadata": {
    "slideshow": {
     "slide_type": "slide"
    }
   },
   "outputs": [
    {
     "name": "stdout",
     "output_type": "stream",
     "text": [
      "Out-of-sample Root Mean Squared Error (RMSE): 1.672295224745903\n",
      "Rolling Out-of-Sample Root Mean Squared Error (RMSE): 2.3367560823354103\n"
     ]
    }
   ],
   "source": [
    "print(f\"Out-of-sample Root Mean Squared Error (RMSE): {out_of_sample_rmse}\")\n",
    "print(f\"Rolling Out-of-Sample Root Mean Squared Error (RMSE): {rolling_rmse}\")"
   ]
  },
  {
   "cell_type": "markdown",
   "metadata": {
    "slideshow": {
     "slide_type": "skip"
    }
   },
   "source": [
    "Comparing the two RMSE's, the RMSE from the single training window is 0.73, whereas it is 0.75 from the rolling-out-of-sample model.\n",
    "\n",
    "* The rolling-out-of sample approach is an approach more akin to real life (you likely re-estimate your model when new data becomes available)\n",
    "* In addition to being more realistic, the rolling-out of sample approach is also more rigorous, as you are testing your model many more times across different time periods\n",
    "* Therefore, we expect a slightly higher out-of-sample RMSE, which is what we see.\n",
    "* The fact that the two are close to each other in value though does suggest that our model is reasonably stable."
   ]
  },
  {
   "cell_type": "code",
   "execution_count": null,
   "metadata": {},
   "outputs": [],
   "source": []
  }
 ],
 "metadata": {
  "celltoolbar": "Slideshow",
  "kernelspec": {
   "display_name": "Python 3",
   "language": "python",
   "name": "python3"
  },
  "language_info": {
   "codemirror_mode": {
    "name": "ipython",
    "version": 3
   },
   "file_extension": ".py",
   "mimetype": "text/x-python",
   "name": "python",
   "nbconvert_exporter": "python",
   "pygments_lexer": "ipython3",
   "version": "3.7.9"
  }
 },
 "nbformat": 4,
 "nbformat_minor": 4
}
